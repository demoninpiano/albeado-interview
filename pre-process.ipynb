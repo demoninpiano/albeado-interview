{
 "cells": [
  {
   "cell_type": "markdown",
   "metadata": {
    "collapsed": false
   },
   "source": [
    "# Pre-processing the raw enron email data\n",
    "\n",
    "1. Transform unix time to datetime\n",
    "2. Filter sender/recipients data\n",
    "3. Extract Person's name from email address\n",
    "4. Generate count dataframe saved in result/output.csv\n",
    "\n"
   ]
  },
  {
   "cell_type": "markdown",
   "metadata": {},
   "source": [
    "## Import Packages"
   ]
  },
  {
   "cell_type": "code",
   "execution_count": 1,
   "metadata": {
    "collapsed": false
   },
   "outputs": [
    {
     "name": "stdout",
     "output_type": "stream",
     "text": [
      "Packages Loaded Successfully\n"
     ]
    }
   ],
   "source": [
    "import numpy as np\n",
    "import pandas as pd\n",
    "import seaborn as sns\n",
    "import matplotlib.pyplot as plt\n",
    "import math\n",
    "import json\n",
    "import datetime\n",
    "from datetime import datetime as dt\n",
    "\n",
    "\n",
    "color = sns.color_palette()\n",
    "\n",
    "%matplotlib inline\n",
    "print \"Packages Loaded Successfully\""
   ]
  },
  {
   "cell_type": "markdown",
   "metadata": {},
   "source": [
    "## Helper Functions"
   ]
  },
  {
   "cell_type": "code",
   "execution_count": 2,
   "metadata": {
    "collapsed": true
   },
   "outputs": [],
   "source": [
    "## Execution time helper function\n",
    "\n",
    "class timeit():\n",
    "    from datetime import datetime\n",
    "    def __enter__(self):\n",
    "        self.tic = self.datetime.now()\n",
    "    def __exit__(self, *args, **kwargs):\n",
    "        print('runtime: {}'.format(self.datetime.now() - self.tic))\n",
    "\n",
    "        \n",
    "## Split list in columns to multiple rows\n",
    "\n",
    "def split_list_in_cols_to_rows(df, lst_cols, fill_value=''):\n",
    "    # make sure `lst_cols` is a list\n",
    "    if lst_cols and not isinstance(lst_cols, list):\n",
    "        lst_cols = [lst_cols]\n",
    "    # all columns except `lst_cols`\n",
    "    idx_cols = df.columns.difference(lst_cols)\n",
    "\n",
    "    # calculate lengths of lists\n",
    "    lens = df[lst_cols[0]].str.len()\n",
    "\n",
    "    if (lens > 0).all():\n",
    "        # ALL lists in cells aren't empty\n",
    "        return pd.DataFrame({\n",
    "            col:np.repeat(df[col].values, df[lst_cols[0]].str.len())\n",
    "            for col in idx_cols\n",
    "        }).assign(**{col:np.concatenate(df[col].values) for col in lst_cols}) \\\n",
    "          .loc[:, df.columns]\n",
    "    else:\n",
    "        # at least one list in cells is empty\n",
    "        return pd.DataFrame({\n",
    "            col:np.repeat(df[col].values, df[lst_cols[0]].str.len())\n",
    "            for col in idx_cols\n",
    "        }).assign(**{col:np.concatenate(df[col].values) for col in lst_cols}) \\\n",
    "          .append(df.loc[lens==0, idx_cols]).fillna(fill_value) \\\n",
    "          .loc[:, df.columns]"
   ]
  },
  {
   "cell_type": "markdown",
   "metadata": {},
   "source": [
    "## Load Data"
   ]
  },
  {
   "cell_type": "code",
   "execution_count": 3,
   "metadata": {
    "collapsed": false
   },
   "outputs": [
    {
     "name": "stdout",
     "output_type": "stream",
     "text": [
      "Number of rows: 205731\n"
     ]
    }
   ],
   "source": [
    "All_df = pd.read_csv('data/enron-event-history-all.csv',\n",
    "                     names = ['time','message','sender','recipients','topic','mode'])\n",
    "\n",
    "print(\"Number of rows: {:.0f}\".format(All_df.shape[0]))"
   ]
  },
  {
   "cell_type": "markdown",
   "metadata": {},
   "source": [
    "### check column object"
   ]
  },
  {
   "cell_type": "code",
   "execution_count": 4,
   "metadata": {
    "collapsed": false
   },
   "outputs": [
    {
     "name": "stdout",
     "output_type": "stream",
     "text": [
      "<class 'pandas.core.frame.DataFrame'>\n",
      "RangeIndex: 205731 entries, 0 to 205730\n",
      "Data columns (total 6 columns):\n",
      "time          205731 non-null int64\n",
      "message       205731 non-null object\n",
      "sender        205699 non-null object\n",
      "recipients    205693 non-null object\n",
      "topic         0 non-null float64\n",
      "mode          205731 non-null object\n",
      "dtypes: float64(1), int64(1), object(4)\n",
      "memory usage: 9.4+ MB\n"
     ]
    }
   ],
   "source": [
    "All_df.info()"
   ]
  },
  {
   "cell_type": "markdown",
   "metadata": {},
   "source": [
    "### Check Null Values"
   ]
  },
  {
   "cell_type": "code",
   "execution_count": 5,
   "metadata": {
    "collapsed": false
   },
   "outputs": [
    {
     "name": "stdout",
     "output_type": "stream",
     "text": [
      "time               0\n",
      "message            0\n",
      "sender            32\n",
      "recipients        38\n",
      "topic         205731\n",
      "mode               0\n",
      "dtype: int64\n"
     ]
    }
   ],
   "source": [
    "null_counts = All_df.isnull().sum()\n",
    "print(null_counts)"
   ]
  },
  {
   "cell_type": "markdown",
   "metadata": {},
   "source": [
    "### Check Mode's unique value"
   ]
  },
  {
   "cell_type": "code",
   "execution_count": 6,
   "metadata": {
    "collapsed": false
   },
   "outputs": [
    {
     "data": {
      "text/plain": [
       "email    205731\n",
       "Name: mode, dtype: int64"
      ]
     },
     "execution_count": 6,
     "metadata": {},
     "output_type": "execute_result"
    }
   ],
   "source": [
    "All_df['mode'].value_counts()"
   ]
  },
  {
   "cell_type": "markdown",
   "metadata": {},
   "source": [
    "### Drop Topic, Mode, and Message Columns"
   ]
  },
  {
   "cell_type": "code",
   "execution_count": 7,
   "metadata": {
    "collapsed": true
   },
   "outputs": [],
   "source": [
    "All_df.drop(['topic','mode','message'],axis=1,inplace=True)"
   ]
  },
  {
   "cell_type": "markdown",
   "metadata": {},
   "source": [
    "### Drop null rows"
   ]
  },
  {
   "cell_type": "code",
   "execution_count": 8,
   "metadata": {
    "collapsed": false
   },
   "outputs": [],
   "source": [
    "All_df.dropna(how='any',inplace=True)"
   ]
  },
  {
   "cell_type": "markdown",
   "metadata": {},
   "source": [
    "## Transform unix time to datetime\n"
   ]
  },
  {
   "cell_type": "code",
   "execution_count": 10,
   "metadata": {
    "collapsed": false
   },
   "outputs": [],
   "source": [
    "## Transform unix time to datetime\n",
    "\n",
    "All_df['time'] = pd.to_datetime(All_df['time'],unit='ms')\n",
    "\n"
   ]
  },
  {
   "cell_type": "markdown",
   "metadata": {},
   "source": [
    "## Filter sender/recipients data"
   ]
  },
  {
   "cell_type": "markdown",
   "metadata": {},
   "source": [
    "### Check Sender value count"
   ]
  },
  {
   "cell_type": "code",
   "execution_count": 13,
   "metadata": {
    "collapsed": false
   },
   "outputs": [
    {
     "data": {
      "text/plain": [
       "jeff dasovich        5232\n",
       "sara shackleton      4591\n",
       "pete davis           3898\n",
       "chris germany        3703\n",
       "notes                3314\n",
       "vince kaminski       2937\n",
       "matthew lenhart      2832\n",
       "debra perlingiere    2611\n",
       "gerald nemec         2353\n",
       "announcements        2243\n",
       "mark taylor          2110\n",
       "richard sanders      1920\n",
       "james steffes        1748\n",
       "john arnold          1710\n",
       "michelle cash        1639\n",
       "kate symes           1636\n",
       "blank                1603\n",
       "sally beck           1592\n",
       "elizabeth sager      1554\n",
       "phillip love         1484\n",
       "Carol St Clair       1447\n",
       "louise kitchen       1443\n",
       "darron giron         1261\n",
       "outlook              1160\n",
       "drew fossum          1147\n",
       "benjamin rogers      1114\n",
       "kevin presto         1108\n",
       "mark haedicke        1101\n",
       "chris dorland        1082\n",
       "jeffrey shankman     1054\n",
       "Name: sender, dtype: int64"
      ]
     },
     "execution_count": 13,
     "metadata": {},
     "output_type": "execute_result"
    }
   ],
   "source": [
    "All_df.sender.value_counts()[:30]"
   ]
  },
  {
   "cell_type": "markdown",
   "metadata": {},
   "source": [
    "* Notes/blank/outlook doesn't look like name.\n",
    "* Notes seems like @everyone group message\n",
    "* blank/outlook seems like unknown sender name"
   ]
  },
  {
   "cell_type": "markdown",
   "metadata": {},
   "source": [
    "### Check data that sender is  notes"
   ]
  },
  {
   "cell_type": "code",
   "execution_count": 14,
   "metadata": {
    "collapsed": false
   },
   "outputs": [
    {
     "data": {
      "text/html": [
       "<div>\n",
       "<style>\n",
       "    .dataframe thead tr:only-child th {\n",
       "        text-align: right;\n",
       "    }\n",
       "\n",
       "    .dataframe thead th {\n",
       "        text-align: left;\n",
       "    }\n",
       "\n",
       "    .dataframe tbody tr th {\n",
       "        vertical-align: top;\n",
       "    }\n",
       "</style>\n",
       "<table border=\"1\" class=\"dataframe\">\n",
       "  <thead>\n",
       "    <tr style=\"text-align: right;\">\n",
       "      <th></th>\n",
       "      <th>time</th>\n",
       "      <th>sender</th>\n",
       "      <th>recipients</th>\n",
       "    </tr>\n",
       "  </thead>\n",
       "  <tbody>\n",
       "    <tr>\n",
       "      <th>67833</th>\n",
       "      <td>2001-03-07 22:42:00</td>\n",
       "      <td>notes</td>\n",
       "      <td>juan hernandez</td>\n",
       "    </tr>\n",
       "    <tr>\n",
       "      <th>69968</th>\n",
       "      <td>2001-03-15 20:10:00</td>\n",
       "      <td>notes</td>\n",
       "      <td>juan hernandez</td>\n",
       "    </tr>\n",
       "    <tr>\n",
       "      <th>74543</th>\n",
       "      <td>2001-04-02 08:41:00</td>\n",
       "      <td>notes</td>\n",
       "      <td>mary hain</td>\n",
       "    </tr>\n",
       "    <tr>\n",
       "      <th>77075</th>\n",
       "      <td>2001-04-10 00:40:32</td>\n",
       "      <td>notes</td>\n",
       "      <td>avallow lodielectric|angles cook inlet</td>\n",
       "    </tr>\n",
       "    <tr>\n",
       "      <th>78092</th>\n",
       "      <td>2001-04-11 23:53:20</td>\n",
       "      <td>notes</td>\n",
       "      <td>avallow lodielectric|anglea cook inlet</td>\n",
       "    </tr>\n",
       "    <tr>\n",
       "      <th>82075</th>\n",
       "      <td>2001-04-24 04:16:00</td>\n",
       "      <td>notes</td>\n",
       "      <td>pkeavey</td>\n",
       "    </tr>\n",
       "    <tr>\n",
       "      <th>82254</th>\n",
       "      <td>2001-04-24 16:16:00</td>\n",
       "      <td>notes</td>\n",
       "      <td>pkeavey</td>\n",
       "    </tr>\n",
       "    <tr>\n",
       "      <th>82380</th>\n",
       "      <td>2001-04-24 19:23:00</td>\n",
       "      <td>notes</td>\n",
       "      <td>pkeavey</td>\n",
       "    </tr>\n",
       "    <tr>\n",
       "      <th>83486</th>\n",
       "      <td>2001-04-25 07:23:00</td>\n",
       "      <td>notes</td>\n",
       "      <td>pkeavey</td>\n",
       "    </tr>\n",
       "    <tr>\n",
       "      <th>84399</th>\n",
       "      <td>2001-04-27 02:13:05</td>\n",
       "      <td>notes</td>\n",
       "      <td>gworster txu|jcattermole pcenergy|eric gillasp...</td>\n",
       "    </tr>\n",
       "    <tr>\n",
       "      <th>84424</th>\n",
       "      <td>2001-04-27 04:13:00</td>\n",
       "      <td>notes</td>\n",
       "      <td>larry campbell</td>\n",
       "    </tr>\n",
       "    <tr>\n",
       "      <th>84647</th>\n",
       "      <td>2001-04-27 18:31:53</td>\n",
       "      <td>notes</td>\n",
       "      <td>monica padilla city palo alto</td>\n",
       "    </tr>\n",
       "    <tr>\n",
       "      <th>85431</th>\n",
       "      <td>2001-05-01 00:09:35</td>\n",
       "      <td>notes</td>\n",
       "      <td>kim ward</td>\n",
       "    </tr>\n",
       "    <tr>\n",
       "      <th>85454</th>\n",
       "      <td>2001-05-01 00:55:00</td>\n",
       "      <td>notes</td>\n",
       "      <td>environmentcanada</td>\n",
       "    </tr>\n",
       "    <tr>\n",
       "      <th>85997</th>\n",
       "      <td>2001-05-01 23:14:00</td>\n",
       "      <td>notes</td>\n",
       "      <td>pkeavey</td>\n",
       "    </tr>\n",
       "    <tr>\n",
       "      <th>86022</th>\n",
       "      <td>2001-05-01 23:45:00</td>\n",
       "      <td>notes</td>\n",
       "      <td>pkeavey</td>\n",
       "    </tr>\n",
       "    <tr>\n",
       "      <th>86073</th>\n",
       "      <td>2001-05-02 01:17:00</td>\n",
       "      <td>notes</td>\n",
       "      <td>environmentcanada</td>\n",
       "    </tr>\n",
       "    <tr>\n",
       "      <th>86245</th>\n",
       "      <td>2001-05-02 11:14:00</td>\n",
       "      <td>notes</td>\n",
       "      <td>pkeavey</td>\n",
       "    </tr>\n",
       "    <tr>\n",
       "      <th>86250</th>\n",
       "      <td>2001-05-02 11:45:00</td>\n",
       "      <td>notes</td>\n",
       "      <td>pkeavey</td>\n",
       "    </tr>\n",
       "    <tr>\n",
       "      <th>86596</th>\n",
       "      <td>2001-05-03 01:16:00</td>\n",
       "      <td>notes</td>\n",
       "      <td>environmentcanada</td>\n",
       "    </tr>\n",
       "  </tbody>\n",
       "</table>\n",
       "</div>"
      ],
      "text/plain": [
       "                     time sender  \\\n",
       "67833 2001-03-07 22:42:00  notes   \n",
       "69968 2001-03-15 20:10:00  notes   \n",
       "74543 2001-04-02 08:41:00  notes   \n",
       "77075 2001-04-10 00:40:32  notes   \n",
       "78092 2001-04-11 23:53:20  notes   \n",
       "82075 2001-04-24 04:16:00  notes   \n",
       "82254 2001-04-24 16:16:00  notes   \n",
       "82380 2001-04-24 19:23:00  notes   \n",
       "83486 2001-04-25 07:23:00  notes   \n",
       "84399 2001-04-27 02:13:05  notes   \n",
       "84424 2001-04-27 04:13:00  notes   \n",
       "84647 2001-04-27 18:31:53  notes   \n",
       "85431 2001-05-01 00:09:35  notes   \n",
       "85454 2001-05-01 00:55:00  notes   \n",
       "85997 2001-05-01 23:14:00  notes   \n",
       "86022 2001-05-01 23:45:00  notes   \n",
       "86073 2001-05-02 01:17:00  notes   \n",
       "86245 2001-05-02 11:14:00  notes   \n",
       "86250 2001-05-02 11:45:00  notes   \n",
       "86596 2001-05-03 01:16:00  notes   \n",
       "\n",
       "                                              recipients  \n",
       "67833                                     juan hernandez  \n",
       "69968                                     juan hernandez  \n",
       "74543                                          mary hain  \n",
       "77075             avallow lodielectric|angles cook inlet  \n",
       "78092             avallow lodielectric|anglea cook inlet  \n",
       "82075                                            pkeavey  \n",
       "82254                                            pkeavey  \n",
       "82380                                            pkeavey  \n",
       "83486                                            pkeavey  \n",
       "84399  gworster txu|jcattermole pcenergy|eric gillasp...  \n",
       "84424                                     larry campbell  \n",
       "84647                      monica padilla city palo alto  \n",
       "85431                                           kim ward  \n",
       "85454                                  environmentcanada  \n",
       "85997                                            pkeavey  \n",
       "86022                                            pkeavey  \n",
       "86073                                  environmentcanada  \n",
       "86245                                            pkeavey  \n",
       "86250                                            pkeavey  \n",
       "86596                                  environmentcanada  "
      ]
     },
     "execution_count": 14,
     "metadata": {},
     "output_type": "execute_result"
    }
   ],
   "source": [
    "## Sort dataframe by time to see time series pattern\n",
    "All_df.sort_values(by='time',inplace=True)\n",
    "\n",
    "All_df.loc[All_df['sender'] =='notes'].head(20)"
   ]
  },
  {
   "cell_type": "markdown",
   "metadata": {},
   "source": [
    "* only one recipients for each entity. So it's not group message\n",
    "* replace it as unknown sender name \n"
   ]
  },
  {
   "cell_type": "markdown",
   "metadata": {},
   "source": [
    "### Replace notes/blank/outlook sender as unknown sender"
   ]
  },
  {
   "cell_type": "code",
   "execution_count": 15,
   "metadata": {
    "collapsed": false
   },
   "outputs": [],
   "source": [
    "All_df.sender.replace(['notes', 'blank','outlook'], 'unknown', inplace=True)\n"
   ]
  },
  {
   "cell_type": "code",
   "execution_count": 16,
   "metadata": {
    "collapsed": false
   },
   "outputs": [
    {
     "name": "stdout",
     "output_type": "stream",
     "text": [
      "Number of unknown sender: 6077\n"
     ]
    }
   ],
   "source": [
    "## print number of unknown sender records\n",
    "\n",
    "count = All_df.loc[All_df['sender'] =='unknown'].shape[0]\n",
    "print(\"Number of unknown sender: {:.0f}\".format(count))"
   ]
  },
  {
   "cell_type": "markdown",
   "metadata": {},
   "source": [
    "### Check Sender value count"
   ]
  },
  {
   "cell_type": "code",
   "execution_count": 17,
   "metadata": {
    "collapsed": false
   },
   "outputs": [
    {
     "data": {
      "text/plain": [
       "sara shackleton                                      2340\n",
       "bert meyers|bill williams|craig dean|geir solberg    2232\n",
       "kenneth lay                                          1883\n",
       "louise kitchen                                       1759\n",
       "gerald nemec                                         1665\n",
       "sally beck                                           1319\n",
       "vince kaminski                                       1242\n",
       "kate symes                                           1118\n",
       "mark taylor                                          1105\n",
       "andrew lewis                                         1071\n",
       "daren farmer                                          881\n",
       "pete davis|bert meyers|bill williams                  845\n",
       "mike maggi                                            842\n",
       "kim ward                                              801\n",
       "jeff dasovich                                         779\n",
       "john lavorato                                         775\n",
       "richard shapiro                                       747\n",
       "benjamin rogers                                       737\n",
       "kam keiser                                            737\n",
       "bert meyers|bill williams|craig dean|porter           720\n",
       "notes                                                 712\n",
       "chris germany                                         672\n",
       "larry campbell                                        659\n",
       "richard sanders                                       611\n",
       "rick buy                                              595\n",
       "kevin hyatt                                           575\n",
       "bert meyers|bill williams|craig dean|eric linder      571\n",
       "don baughman                                          561\n",
       "joe parks                                             538\n",
       "michelle lokay                                        528\n",
       "Name: recipients, dtype: int64"
      ]
     },
     "execution_count": 17,
     "metadata": {},
     "output_type": "execute_result"
    }
   ],
   "source": [
    "All_df.recipients.value_counts()[:30]"
   ]
  },
  {
   "cell_type": "markdown",
   "metadata": {},
   "source": [
    "* one entity can have multiple recipients\n",
    "* recipient has notes as well"
   ]
  },
  {
   "cell_type": "markdown",
   "metadata": {},
   "source": [
    "### Split multiple recipients "
   ]
  },
  {
   "cell_type": "code",
   "execution_count": 18,
   "metadata": {
    "collapsed": false
   },
   "outputs": [
    {
     "name": "stdout",
     "output_type": "stream",
     "text": [
      "runtime: 0:00:00.682795\n"
     ]
    }
   ],
   "source": [
    "with timeit():\n",
    "    All_df = split_list_in_cols_to_rows(All_df.assign(recipients=All_df.recipients.str.split('|')), 'recipients')"
   ]
  },
  {
   "cell_type": "markdown",
   "metadata": {},
   "source": [
    "### Check overlap betwee email name and  person name in sender/recipients"
   ]
  },
  {
   "cell_type": "code",
   "execution_count": 21,
   "metadata": {
    "collapsed": false
   },
   "outputs": [
    {
     "data": {
      "text/html": [
       "<div>\n",
       "<style>\n",
       "    .dataframe thead tr:only-child th {\n",
       "        text-align: right;\n",
       "    }\n",
       "\n",
       "    .dataframe thead th {\n",
       "        text-align: left;\n",
       "    }\n",
       "\n",
       "    .dataframe tbody tr th {\n",
       "        vertical-align: top;\n",
       "    }\n",
       "</style>\n",
       "<table border=\"1\" class=\"dataframe\">\n",
       "  <thead>\n",
       "    <tr style=\"text-align: right;\">\n",
       "      <th></th>\n",
       "      <th>time</th>\n",
       "      <th>sender</th>\n",
       "      <th>recipients</th>\n",
       "    </tr>\n",
       "  </thead>\n",
       "  <tbody>\n",
       "    <tr>\n",
       "      <th>0</th>\n",
       "      <td>1998-05-27 22:31:00</td>\n",
       "      <td>Christopher Behney</td>\n",
       "      <td>Toni P Schulenburg</td>\n",
       "    </tr>\n",
       "    <tr>\n",
       "      <th>1</th>\n",
       "      <td>1998-05-27 22:31:00</td>\n",
       "      <td>Christopher Behney</td>\n",
       "      <td>mary hain</td>\n",
       "    </tr>\n",
       "    <tr>\n",
       "      <th>2</th>\n",
       "      <td>1998-10-30 23:43:00</td>\n",
       "      <td>mark legal taylor</td>\n",
       "      <td>Marc.R.Cutler@BankAmerica.com</td>\n",
       "    </tr>\n",
       "    <tr>\n",
       "      <th>3</th>\n",
       "      <td>1998-10-30 23:56:00</td>\n",
       "      <td>mark legal taylor</td>\n",
       "      <td>Marc.R.Cutler@BankAmerica.com</td>\n",
       "    </tr>\n",
       "    <tr>\n",
       "      <th>4</th>\n",
       "      <td>1998-10-31 00:02:00</td>\n",
       "      <td>mark legal taylor</td>\n",
       "      <td>shari stack</td>\n",
       "    </tr>\n",
       "    <tr>\n",
       "      <th>5</th>\n",
       "      <td>1998-10-31 01:06:00</td>\n",
       "      <td>mark legal taylor</td>\n",
       "      <td>Marc.R.Cutler@BankAmerica.com</td>\n",
       "    </tr>\n",
       "    <tr>\n",
       "      <th>6</th>\n",
       "      <td>1998-11-03 03:32:00</td>\n",
       "      <td>mark legal taylor</td>\n",
       "      <td>yao apasu</td>\n",
       "    </tr>\n",
       "    <tr>\n",
       "      <th>7</th>\n",
       "      <td>1998-11-03 19:12:00</td>\n",
       "      <td>yao apasu</td>\n",
       "      <td>brent hendry</td>\n",
       "    </tr>\n",
       "    <tr>\n",
       "      <th>8</th>\n",
       "      <td>1998-11-03 19:12:00</td>\n",
       "      <td>yao apasu</td>\n",
       "      <td>mark legal taylor</td>\n",
       "    </tr>\n",
       "    <tr>\n",
       "      <th>9</th>\n",
       "      <td>1998-11-04 18:31:00</td>\n",
       "      <td>mark legal taylor</td>\n",
       "      <td>Marc.R.Cutler@BankAmerica.com</td>\n",
       "    </tr>\n",
       "    <tr>\n",
       "      <th>10</th>\n",
       "      <td>1998-11-04 19:59:00</td>\n",
       "      <td>mark legal taylor</td>\n",
       "      <td>paul simons</td>\n",
       "    </tr>\n",
       "    <tr>\n",
       "      <th>11</th>\n",
       "      <td>1998-11-05 01:03:00</td>\n",
       "      <td>mark legal taylor</td>\n",
       "      <td>Cynthia C Sandherr@Enron</td>\n",
       "    </tr>\n",
       "    <tr>\n",
       "      <th>12</th>\n",
       "      <td>1998-11-05 01:03:00</td>\n",
       "      <td>mark legal taylor</td>\n",
       "      <td>Jeffrey Keeler@Enron</td>\n",
       "    </tr>\n",
       "    <tr>\n",
       "      <th>13</th>\n",
       "      <td>1998-11-05 01:03:00</td>\n",
       "      <td>mark legal taylor</td>\n",
       "      <td>Stacey Bolton@Enron</td>\n",
       "    </tr>\n",
       "    <tr>\n",
       "      <th>14</th>\n",
       "      <td>1998-11-05 01:21:00</td>\n",
       "      <td>mark legal taylor</td>\n",
       "      <td>mtaylor</td>\n",
       "    </tr>\n",
       "    <tr>\n",
       "      <th>15</th>\n",
       "      <td>1998-11-05 20:35:00</td>\n",
       "      <td>mark legal taylor</td>\n",
       "      <td>justin boyd</td>\n",
       "    </tr>\n",
       "    <tr>\n",
       "      <th>16</th>\n",
       "      <td>1998-11-10 00:50:00</td>\n",
       "      <td>Heather J Mitchell AT ENRON_DEVELOPMENT@CCMAIL</td>\n",
       "      <td>Mark - ECT Legal Taylor@ECT</td>\n",
       "    </tr>\n",
       "    <tr>\n",
       "      <th>17</th>\n",
       "      <td>1998-11-10 00:50:00</td>\n",
       "      <td>Heather J Mitchell AT ENRON_DEVELOPMENT@CCMAIL</td>\n",
       "      <td>doug leach</td>\n",
       "    </tr>\n",
       "    <tr>\n",
       "      <th>18</th>\n",
       "      <td>1998-11-10 00:50:00</td>\n",
       "      <td>Heather J Mitchell AT ENRON_DEVELOPMENT@CCMAIL</td>\n",
       "      <td>Margarita G Jannasch/ENRON_DEVELOPMENT AT ENRO...</td>\n",
       "    </tr>\n",
       "    <tr>\n",
       "      <th>19</th>\n",
       "      <td>1998-11-13 20:07:00</td>\n",
       "      <td>mark legal taylor</td>\n",
       "      <td>tana jones</td>\n",
       "    </tr>\n",
       "  </tbody>\n",
       "</table>\n",
       "</div>"
      ],
      "text/plain": [
       "                  time                                          sender  \\\n",
       "0  1998-05-27 22:31:00                              Christopher Behney   \n",
       "1  1998-05-27 22:31:00                              Christopher Behney   \n",
       "2  1998-10-30 23:43:00                               mark legal taylor   \n",
       "3  1998-10-30 23:56:00                               mark legal taylor   \n",
       "4  1998-10-31 00:02:00                               mark legal taylor   \n",
       "5  1998-10-31 01:06:00                               mark legal taylor   \n",
       "6  1998-11-03 03:32:00                               mark legal taylor   \n",
       "7  1998-11-03 19:12:00                                       yao apasu   \n",
       "8  1998-11-03 19:12:00                                       yao apasu   \n",
       "9  1998-11-04 18:31:00                               mark legal taylor   \n",
       "10 1998-11-04 19:59:00                               mark legal taylor   \n",
       "11 1998-11-05 01:03:00                               mark legal taylor   \n",
       "12 1998-11-05 01:03:00                               mark legal taylor   \n",
       "13 1998-11-05 01:03:00                               mark legal taylor   \n",
       "14 1998-11-05 01:21:00                               mark legal taylor   \n",
       "15 1998-11-05 20:35:00                               mark legal taylor   \n",
       "16 1998-11-10 00:50:00  Heather J Mitchell AT ENRON_DEVELOPMENT@CCMAIL   \n",
       "17 1998-11-10 00:50:00  Heather J Mitchell AT ENRON_DEVELOPMENT@CCMAIL   \n",
       "18 1998-11-10 00:50:00  Heather J Mitchell AT ENRON_DEVELOPMENT@CCMAIL   \n",
       "19 1998-11-13 20:07:00                               mark legal taylor   \n",
       "\n",
       "                                           recipients  \n",
       "0                                  Toni P Schulenburg  \n",
       "1                                           mary hain  \n",
       "2                       Marc.R.Cutler@BankAmerica.com  \n",
       "3                       Marc.R.Cutler@BankAmerica.com  \n",
       "4                                         shari stack  \n",
       "5                       Marc.R.Cutler@BankAmerica.com  \n",
       "6                                           yao apasu  \n",
       "7                                        brent hendry  \n",
       "8                                   mark legal taylor  \n",
       "9                       Marc.R.Cutler@BankAmerica.com  \n",
       "10                                        paul simons  \n",
       "11                           Cynthia C Sandherr@Enron  \n",
       "12                               Jeffrey Keeler@Enron  \n",
       "13                                Stacey Bolton@Enron  \n",
       "14                                            mtaylor  \n",
       "15                                        justin boyd  \n",
       "16                        Mark - ECT Legal Taylor@ECT  \n",
       "17                                         doug leach  \n",
       "18  Margarita G Jannasch/ENRON_DEVELOPMENT AT ENRO...  \n",
       "19                                         tana jones  "
      ]
     },
     "execution_count": 21,
     "metadata": {},
     "output_type": "execute_result"
    }
   ],
   "source": [
    "All_df.head(20)"
   ]
  },
  {
   "cell_type": "code",
   "execution_count": 22,
   "metadata": {
    "collapsed": false
   },
   "outputs": [
    {
     "name": "stdout",
     "output_type": "stream",
     "text": [
      "Empty DataFrame\n",
      "Columns: [time, sender, recipients]\n",
      "Index: []\n",
      "\n",
      "\n",
      "Empty DataFrame\n",
      "Columns: [time, sender, recipients]\n",
      "Index: []\n",
      "\n",
      "\n",
      "Empty DataFrame\n",
      "Columns: [time, sender, recipients]\n",
      "Index: []\n"
     ]
    }
   ],
   "source": [
    "## Check couple cases\n",
    "\n",
    "## Check name in the Heather J Mitchell AT ENRON_DEVELOPMENT@CCMAIL email\n",
    "print All_df.loc[All_df['recipients']=='Heather J Mitchell']\n",
    "print '\\n'\n",
    "\n",
    "## Check name in Mark - ECT Legal Taylor@ECT\n",
    "print All_df.loc[All_df['recipients']=='Mark - ECT Legal Taylor']\n",
    "print '\\n'\n",
    "\n",
    "## Check name in the Marc.R.Cutler@BankAmerica.com\n",
    "print All_df.loc[All_df['recipients']=='Marc.R.Cutler']\n"
   ]
  },
  {
   "cell_type": "markdown",
   "metadata": {},
   "source": [
    "* Seems no overlap betweent the Email Address and name"
   ]
  },
  {
   "cell_type": "markdown",
   "metadata": {},
   "source": [
    "## Extract the name from the email address"
   ]
  },
  {
   "cell_type": "code",
   "execution_count": 23,
   "metadata": {
    "collapsed": true
   },
   "outputs": [],
   "source": [
    "\n",
    "All_df.recipients = All_df.recipients.apply(lambda x: x.split(\"@\")[0])\n",
    "All_df.sender = All_df.sender.apply(lambda x: x.split(\"@\")[0])\n"
   ]
  },
  {
   "cell_type": "markdown",
   "metadata": {},
   "source": [
    "### Check the pre-process df results"
   ]
  },
  {
   "cell_type": "code",
   "execution_count": 24,
   "metadata": {
    "collapsed": false
   },
   "outputs": [
    {
     "data": {
      "text/html": [
       "<div>\n",
       "<style>\n",
       "    .dataframe thead tr:only-child th {\n",
       "        text-align: right;\n",
       "    }\n",
       "\n",
       "    .dataframe thead th {\n",
       "        text-align: left;\n",
       "    }\n",
       "\n",
       "    .dataframe tbody tr th {\n",
       "        vertical-align: top;\n",
       "    }\n",
       "</style>\n",
       "<table border=\"1\" class=\"dataframe\">\n",
       "  <thead>\n",
       "    <tr style=\"text-align: right;\">\n",
       "      <th></th>\n",
       "      <th>time</th>\n",
       "      <th>sender</th>\n",
       "      <th>recipients</th>\n",
       "    </tr>\n",
       "  </thead>\n",
       "  <tbody>\n",
       "    <tr>\n",
       "      <th>0</th>\n",
       "      <td>896308260000</td>\n",
       "      <td>Christopher Behney</td>\n",
       "      <td>Toni P Schulenburg|mary hain</td>\n",
       "    </tr>\n",
       "    <tr>\n",
       "      <th>1</th>\n",
       "      <td>909790980000</td>\n",
       "      <td>mark legal taylor</td>\n",
       "      <td>Marc.R.Cutler@BankAmerica.com</td>\n",
       "    </tr>\n",
       "    <tr>\n",
       "      <th>2</th>\n",
       "      <td>909791760000</td>\n",
       "      <td>mark legal taylor</td>\n",
       "      <td>Marc.R.Cutler@BankAmerica.com</td>\n",
       "    </tr>\n",
       "    <tr>\n",
       "      <th>3</th>\n",
       "      <td>909792120000</td>\n",
       "      <td>mark legal taylor</td>\n",
       "      <td>shari stack</td>\n",
       "    </tr>\n",
       "    <tr>\n",
       "      <th>4</th>\n",
       "      <td>909795960000</td>\n",
       "      <td>mark legal taylor</td>\n",
       "      <td>Marc.R.Cutler@BankAmerica.com</td>\n",
       "    </tr>\n",
       "    <tr>\n",
       "      <th>5</th>\n",
       "      <td>910063920000</td>\n",
       "      <td>mark legal taylor</td>\n",
       "      <td>yao apasu</td>\n",
       "    </tr>\n",
       "    <tr>\n",
       "      <th>6</th>\n",
       "      <td>910120320000</td>\n",
       "      <td>yao apasu</td>\n",
       "      <td>brent hendry|mark legal taylor</td>\n",
       "    </tr>\n",
       "    <tr>\n",
       "      <th>7</th>\n",
       "      <td>910204260000</td>\n",
       "      <td>mark legal taylor</td>\n",
       "      <td>Marc.R.Cutler@BankAmerica.com</td>\n",
       "    </tr>\n",
       "    <tr>\n",
       "      <th>8</th>\n",
       "      <td>910209540000</td>\n",
       "      <td>mark legal taylor</td>\n",
       "      <td>paul simons</td>\n",
       "    </tr>\n",
       "    <tr>\n",
       "      <th>9</th>\n",
       "      <td>910227780000</td>\n",
       "      <td>mark legal taylor</td>\n",
       "      <td>Cynthia C Sandherr@Enron|Jeffrey Keeler@Enron|...</td>\n",
       "    </tr>\n",
       "  </tbody>\n",
       "</table>\n",
       "</div>"
      ],
      "text/plain": [
       "           time              sender  \\\n",
       "0  896308260000  Christopher Behney   \n",
       "1  909790980000   mark legal taylor   \n",
       "2  909791760000   mark legal taylor   \n",
       "3  909792120000   mark legal taylor   \n",
       "4  909795960000   mark legal taylor   \n",
       "5  910063920000   mark legal taylor   \n",
       "6  910120320000           yao apasu   \n",
       "7  910204260000   mark legal taylor   \n",
       "8  910209540000   mark legal taylor   \n",
       "9  910227780000   mark legal taylor   \n",
       "\n",
       "                                          recipients  \n",
       "0                       Toni P Schulenburg|mary hain  \n",
       "1                      Marc.R.Cutler@BankAmerica.com  \n",
       "2                      Marc.R.Cutler@BankAmerica.com  \n",
       "3                                        shari stack  \n",
       "4                      Marc.R.Cutler@BankAmerica.com  \n",
       "5                                          yao apasu  \n",
       "6                     brent hendry|mark legal taylor  \n",
       "7                      Marc.R.Cutler@BankAmerica.com  \n",
       "8                                        paul simons  \n",
       "9  Cynthia C Sandherr@Enron|Jeffrey Keeler@Enron|...  "
      ]
     },
     "execution_count": 24,
     "metadata": {},
     "output_type": "execute_result"
    }
   ],
   "source": [
    "## First 10 rows in dataframe before pre-processing\n",
    "\n",
    "raw_df = pd.read_csv('data/enron-event-history-all.csv',\n",
    "                     names = ['time','message','sender','recipients','topic','mode'],\n",
    "                     nrows=10)\n",
    "\n",
    "raw_df[['time','sender','recipients']]"
   ]
  },
  {
   "cell_type": "code",
   "execution_count": 25,
   "metadata": {
    "collapsed": false,
    "scrolled": true
   },
   "outputs": [
    {
     "data": {
      "text/html": [
       "<div>\n",
       "<style>\n",
       "    .dataframe thead tr:only-child th {\n",
       "        text-align: right;\n",
       "    }\n",
       "\n",
       "    .dataframe thead th {\n",
       "        text-align: left;\n",
       "    }\n",
       "\n",
       "    .dataframe tbody tr th {\n",
       "        vertical-align: top;\n",
       "    }\n",
       "</style>\n",
       "<table border=\"1\" class=\"dataframe\">\n",
       "  <thead>\n",
       "    <tr style=\"text-align: right;\">\n",
       "      <th></th>\n",
       "      <th>time</th>\n",
       "      <th>sender</th>\n",
       "      <th>recipients</th>\n",
       "    </tr>\n",
       "  </thead>\n",
       "  <tbody>\n",
       "    <tr>\n",
       "      <th>0</th>\n",
       "      <td>1998-05-27 22:31:00</td>\n",
       "      <td>Christopher Behney</td>\n",
       "      <td>Toni P Schulenburg</td>\n",
       "    </tr>\n",
       "    <tr>\n",
       "      <th>1</th>\n",
       "      <td>1998-05-27 22:31:00</td>\n",
       "      <td>Christopher Behney</td>\n",
       "      <td>mary hain</td>\n",
       "    </tr>\n",
       "    <tr>\n",
       "      <th>2</th>\n",
       "      <td>1998-10-30 23:43:00</td>\n",
       "      <td>mark legal taylor</td>\n",
       "      <td>Marc.R.Cutler</td>\n",
       "    </tr>\n",
       "    <tr>\n",
       "      <th>3</th>\n",
       "      <td>1998-10-30 23:56:00</td>\n",
       "      <td>mark legal taylor</td>\n",
       "      <td>Marc.R.Cutler</td>\n",
       "    </tr>\n",
       "    <tr>\n",
       "      <th>4</th>\n",
       "      <td>1998-10-31 00:02:00</td>\n",
       "      <td>mark legal taylor</td>\n",
       "      <td>shari stack</td>\n",
       "    </tr>\n",
       "    <tr>\n",
       "      <th>5</th>\n",
       "      <td>1998-10-31 01:06:00</td>\n",
       "      <td>mark legal taylor</td>\n",
       "      <td>Marc.R.Cutler</td>\n",
       "    </tr>\n",
       "    <tr>\n",
       "      <th>6</th>\n",
       "      <td>1998-11-03 03:32:00</td>\n",
       "      <td>mark legal taylor</td>\n",
       "      <td>yao apasu</td>\n",
       "    </tr>\n",
       "    <tr>\n",
       "      <th>7</th>\n",
       "      <td>1998-11-03 19:12:00</td>\n",
       "      <td>yao apasu</td>\n",
       "      <td>brent hendry</td>\n",
       "    </tr>\n",
       "    <tr>\n",
       "      <th>8</th>\n",
       "      <td>1998-11-03 19:12:00</td>\n",
       "      <td>yao apasu</td>\n",
       "      <td>mark legal taylor</td>\n",
       "    </tr>\n",
       "    <tr>\n",
       "      <th>9</th>\n",
       "      <td>1998-11-04 18:31:00</td>\n",
       "      <td>mark legal taylor</td>\n",
       "      <td>Marc.R.Cutler</td>\n",
       "    </tr>\n",
       "  </tbody>\n",
       "</table>\n",
       "</div>"
      ],
      "text/plain": [
       "                 time              sender          recipients\n",
       "0 1998-05-27 22:31:00  Christopher Behney  Toni P Schulenburg\n",
       "1 1998-05-27 22:31:00  Christopher Behney           mary hain\n",
       "2 1998-10-30 23:43:00   mark legal taylor       Marc.R.Cutler\n",
       "3 1998-10-30 23:56:00   mark legal taylor       Marc.R.Cutler\n",
       "4 1998-10-31 00:02:00   mark legal taylor         shari stack\n",
       "5 1998-10-31 01:06:00   mark legal taylor       Marc.R.Cutler\n",
       "6 1998-11-03 03:32:00   mark legal taylor           yao apasu\n",
       "7 1998-11-03 19:12:00           yao apasu        brent hendry\n",
       "8 1998-11-03 19:12:00           yao apasu   mark legal taylor\n",
       "9 1998-11-04 18:31:00   mark legal taylor       Marc.R.Cutler"
      ]
     },
     "execution_count": 25,
     "metadata": {},
     "output_type": "execute_result"
    }
   ],
   "source": [
    "## First 10 rows in dataframe after pre-processing\n",
    "\n",
    "All_df.head(10)"
   ]
  },
  {
   "cell_type": "markdown",
   "metadata": {},
   "source": [
    "### Save the pre-processed dataframe into csv file"
   ]
  },
  {
   "cell_type": "code",
   "execution_count": 26,
   "metadata": {
    "collapsed": true
   },
   "outputs": [],
   "source": [
    "All_df.to_csv('data/cleaned.csv',index = False)"
   ]
  },
  {
   "cell_type": "markdown",
   "metadata": {},
   "source": [
    "## Generate count dataframe saved in result"
   ]
  },
  {
   "cell_type": "code",
   "execution_count": 27,
   "metadata": {
    "collapsed": false
   },
   "outputs": [
    {
     "name": "stdout",
     "output_type": "stream",
     "text": [
      "No. of unique name in sender column : 15211\n",
      "No. of unique name in recipient column : 28737\n",
      "No. of unique name in name list : 36372\n"
     ]
    }
   ],
   "source": [
    "sender_list = All_df.sender.unique()\n",
    "recipients_list = All_df.recipients.unique()\n",
    "name_list = set(sender_list)\n",
    "name_list = name_list.union(recipients_list)\n",
    "\n",
    "print(\"No. of unique name in sender column : {:.0f}\".format(len(sender_list)))\n",
    "print(\"No. of unique name in recipient column : {:.0f}\".format(len(recipients_list)))\n",
    "print(\"No. of unique name in name list : {:.0f}\".format(len(name_list)))"
   ]
  },
  {
   "cell_type": "markdown",
   "metadata": {},
   "source": [
    "### Initial result dataframe"
   ]
  },
  {
   "cell_type": "code",
   "execution_count": 28,
   "metadata": {
    "collapsed": false
   },
   "outputs": [],
   "source": [
    "result_df = pd.DataFrame(data = list(name_list),columns = ['person'])\n"
   ]
  },
  {
   "cell_type": "markdown",
   "metadata": {},
   "source": [
    "### Hash the count result into result_df"
   ]
  },
  {
   "cell_type": "code",
   "execution_count": 29,
   "metadata": {
    "collapsed": false
   },
   "outputs": [],
   "source": [
    "\n",
    "## Count No. of emails sent for each person\n",
    "sent_count_df = pd.DataFrame(All_df.groupby('sender').count()['time'].reset_index())\n",
    "sent_count_df.columns=['person','sent']\n",
    "\n",
    "## Count No. of emails received for each person\n",
    "receive_count_df = pd.DataFrame(All_df.groupby('recipients').count()['time'].reset_index())\n",
    "receive_count_df.columns=['person','received']\n"
   ]
  },
  {
   "cell_type": "markdown",
   "metadata": {},
   "source": [
    "### Merge two count dataframe into result dataframe"
   ]
  },
  {
   "cell_type": "code",
   "execution_count": 30,
   "metadata": {
    "collapsed": true
   },
   "outputs": [],
   "source": [
    "result_df = pd.merge(result_df,sent_count_df,on = ['person'],how = 'left')\n",
    "result_df = pd.merge(result_df,receive_count_df,on = ['person'],how = 'left')"
   ]
  },
  {
   "cell_type": "markdown",
   "metadata": {},
   "source": [
    "### Sort it by number of emails sent"
   ]
  },
  {
   "cell_type": "code",
   "execution_count": 31,
   "metadata": {
    "collapsed": false
   },
   "outputs": [],
   "source": [
    "result_df.sort_values(by='sent',ascending=False,inplace=True)"
   ]
  },
  {
   "cell_type": "markdown",
   "metadata": {},
   "source": [
    "### Fillna"
   ]
  },
  {
   "cell_type": "code",
   "execution_count": 32,
   "metadata": {
    "collapsed": true
   },
   "outputs": [],
   "source": [
    "result_df.fillna(0,inplace=True)"
   ]
  },
  {
   "cell_type": "markdown",
   "metadata": {},
   "source": [
    "### Save it to Output1.csv"
   ]
  },
  {
   "cell_type": "code",
   "execution_count": 33,
   "metadata": {
    "collapsed": true
   },
   "outputs": [],
   "source": [
    "result_df.to_csv('result/Output11.csv',index=False)"
   ]
  },
  {
   "cell_type": "markdown",
   "metadata": {},
   "source": [
    "## Finally, put everything together into a python function\n",
    "\n",
    "* See lib/pre-processing.py"
   ]
  }
 ],
 "metadata": {
  "anaconda-cloud": {},
  "kernelspec": {
   "display_name": "Python [conda root]",
   "language": "python",
   "name": "conda-root-py"
  },
  "language_info": {
   "codemirror_mode": {
    "name": "ipython",
    "version": 2
   },
   "file_extension": ".py",
   "mimetype": "text/x-python",
   "name": "python",
   "nbconvert_exporter": "python",
   "pygments_lexer": "ipython2",
   "version": "2.7.12"
  }
 },
 "nbformat": 4,
 "nbformat_minor": 1
}
